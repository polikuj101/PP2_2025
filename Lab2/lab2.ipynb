{
 "cells": [
  {
   "cell_type": "markdown",
   "metadata": {},
   "source": [
    "Boolean values"
   ]
  },
  {
   "cell_type": "code",
   "execution_count": 190,
   "metadata": {},
   "outputs": [
    {
     "name": "stdout",
     "output_type": "stream",
     "text": [
      "True\n",
      "False\n",
      "False\n",
      "b is greater than a\n"
     ]
    }
   ],
   "source": [
    "print(10 > -10)\n",
    "print (10 == -10)\n",
    "print (10 < -10)\n",
    "\n",
    "a = 8\n",
    "b = 100\n",
    "if b > a:\n",
    "    print (\"b is greater than a\")\n",
    "else:\n",
    "    print(\"a is greater than b\")"
   ]
  },
  {
   "cell_type": "markdown",
   "metadata": {},
   "source": [
    "Evaluating values/variables"
   ]
  },
  {
   "cell_type": "code",
   "execution_count": 191,
   "metadata": {},
   "outputs": [
    {
     "name": "stdout",
     "output_type": "stream",
     "text": [
      "True\n",
      "True\n",
      "True\n"
     ]
    }
   ],
   "source": [
    "a = \"a\"\n",
    "b = 123\n",
    "c = [\"a\", \"b\", \"c\"]\n",
    "print(bool(a))\n",
    "print(bool(b))\n",
    "print(bool(c))"
   ]
  },
  {
   "cell_type": "markdown",
   "metadata": {},
   "source": [
    "False values"
   ]
  },
  {
   "cell_type": "code",
   "execution_count": 192,
   "metadata": {},
   "outputs": [
    {
     "name": "stdout",
     "output_type": "stream",
     "text": [
      "False\n",
      "False\n",
      "False\n",
      "False\n",
      "False\n",
      "False\n",
      "False\n"
     ]
    }
   ],
   "source": [
    "print(bool(False))\n",
    "print(bool())\n",
    "print(bool({}))\n",
    "print(bool([]))\n",
    "print(bool(0))\n",
    "print(bool(None))\n",
    "print(bool(\"\"))"
   ]
  },
  {
   "cell_type": "markdown",
   "metadata": {},
   "source": [
    "__len__ class"
   ]
  },
  {
   "cell_type": "code",
   "execution_count": 193,
   "metadata": {},
   "outputs": [
    {
     "name": "stdout",
     "output_type": "stream",
     "text": [
      "False\n"
     ]
    }
   ],
   "source": [
    "class mine():\n",
    "    def __len__(self):\n",
    "        return 0\n",
    "me = mine()\n",
    "print(bool(me))"
   ]
  },
  {
   "cell_type": "markdown",
   "metadata": {},
   "source": [
    "Boolean function"
   ]
  },
  {
   "cell_type": "code",
   "execution_count": 194,
   "metadata": {},
   "outputs": [
    {
     "name": "stdout",
     "output_type": "stream",
     "text": [
      "yay\n"
     ]
    }
   ],
   "source": [
    "def myfunc():\n",
    "    return True\n",
    "if myfunc():\n",
    "    print(\"yay\")\n",
    "else:\n",
    "    print(\"nooo\")"
   ]
  },
  {
   "cell_type": "markdown",
   "metadata": {},
   "source": [
    "isinstance() function"
   ]
  },
  {
   "cell_type": "code",
   "execution_count": 195,
   "metadata": {},
   "outputs": [
    {
     "name": "stdout",
     "output_type": "stream",
     "text": [
      "True\n"
     ]
    }
   ],
   "source": [
    "a = \"a\"\n",
    "print(isinstance(a, str))"
   ]
  },
  {
   "cell_type": "markdown",
   "metadata": {},
   "source": [
    "Operators"
   ]
  },
  {
   "cell_type": "code",
   "execution_count": 196,
   "metadata": {},
   "outputs": [
    {
     "name": "stdout",
     "output_type": "stream",
     "text": [
      "64\n",
      "3\n",
      "3.0\n",
      "12\n",
      "2\n",
      "3\n",
      "36\n"
     ]
    }
   ],
   "source": [
    "a = 2\n",
    "b = 10\n",
    "print(a**b)      #power\n",
    "print(b//a)      #to the nearest whole number\n",
    "\n",
    "b /= a\n",
    "print(b)\n",
    "b = 5\n",
    "b *= a\n",
    "print(b)\n",
    "b = 5\n",
    "b %= 3\n",
    "print(b)\n",
    "b = 5\n",
    "b //= a\n",
    "print(b)\n",
    "b = 5\n",
    "b **= a\n",
    "print(b)\n",
    "b = 5"
   ]
  },
  {
   "cell_type": "markdown",
   "metadata": {},
   "source": [
    "Bitwise operators"
   ]
  },
  {
   "cell_type": "code",
   "execution_count": 197,
   "metadata": {},
   "outputs": [
    {
     "name": "stdout",
     "output_type": "stream",
     "text": [
      "2\n",
      "6\n",
      "4\n",
      "1\n",
      "24\n",
      "-7\n"
     ]
    }
   ],
   "source": [
    "a = 2\n",
    "b = 10\n",
    "b &= a         #AND\n",
    "print(b)\n",
    "b = 10\n",
    "b |= a         #OR\n",
    "print(b)\n",
    "b = 10\n",
    "b ^= a         #XOR\n",
    "print(b)\n",
    "b = 10\n",
    "b >>= a        #right shift\n",
    "print(b)\n",
    "b = 10 \n",
    "b <<= a        #left shift\n",
    "print(b)\n",
    "b = 10\n",
    "print(~b)      #invert"
   ]
  },
  {
   "cell_type": "markdown",
   "metadata": {},
   "source": [
    "Logical, identity, membership operators"
   ]
  },
  {
   "cell_type": "code",
   "execution_count": 198,
   "metadata": {},
   "outputs": [
    {
     "name": "stdout",
     "output_type": "stream",
     "text": [
      "True\n",
      "True\n",
      "True\n"
     ]
    }
   ],
   "source": [
    "a = 6\n",
    "print(a > 4 and a < 7)\n",
    "print(a > 7 or a > 5)\n",
    "print(not(a < 5 and a < 7))"
   ]
  },
  {
   "cell_type": "code",
   "execution_count": 199,
   "metadata": {},
   "outputs": [
    {
     "name": "stdout",
     "output_type": "stream",
     "text": [
      "True\n",
      "False\n",
      "True\n",
      "True\n",
      "False\n"
     ]
    }
   ],
   "source": [
    "a = [\"x\", \"y\"]\n",
    "b = [\"x\", \"y\"]\n",
    "c = a\n",
    "print(a is c)\n",
    "print(a is b)\n",
    "print(a == b)\n",
    "\n",
    "print(\"x\" in c)\n",
    "print(\"y\" not in b)"
   ]
  },
  {
   "cell_type": "markdown",
   "metadata": {},
   "source": [
    "Lists (ordered, changeable)[]"
   ]
  },
  {
   "cell_type": "code",
   "execution_count": 200,
   "metadata": {},
   "outputs": [
    {
     "name": "stdout",
     "output_type": "stream",
     "text": [
      "6\n",
      "<class 'list'>\n",
      "False\n",
      "c\n",
      "[21, False, 'b']\n",
      "['a', 21, False, 'b']\n",
      "['b', 'b', 'c']\n",
      "[False, 'b', 'b']\n",
      "True\n"
     ]
    }
   ],
   "source": [
    "melist = [\"a\", 21, False, \"b\", \"b\", \"c\"]\n",
    "print(len(melist))\n",
    "print(type(melist))\n",
    "print(melist[2])\n",
    "print(melist[-1])\n",
    "print(melist[1:4])\n",
    "print(melist[:4])\n",
    "print(melist[3:])\n",
    "print(melist[-4:-1])\n",
    "print(\"c\" in melist)"
   ]
  },
  {
   "cell_type": "markdown",
   "metadata": {},
   "source": [
    "Change list"
   ]
  },
  {
   "cell_type": "code",
   "execution_count": 201,
   "metadata": {},
   "outputs": [
    {
     "name": "stdout",
     "output_type": "stream",
     "text": [
      "['f', 'o', 'c', 'e']\n",
      "['f', 'o', 'c', 'us', 'e']\n",
      "['f', 'o', 'c', 'us', 'e', 'd']\n",
      "['f', 'o', 'c', 'us', 'e', 'd', 'm', 'e']\n",
      "['f', 'o', 'c', 'us', 'e', 'd']\n",
      "['f', 'o', 'c', 'e', 'd']\n",
      "[]\n"
     ]
    }
   ],
   "source": [
    "melist = [\"a\", \"b\", \"c\", \"e\"]\n",
    "melist[0:2] = [\"f\", \"o\"]\n",
    "print(melist)\n",
    "melist.insert(3, \"us\")\n",
    "print(melist)\n",
    "melist.append(\"d\")\n",
    "print(melist)\n",
    "foclist = [\"m\", \"e\"]\n",
    "melist.extend(foclist)\n",
    "print(melist)\n",
    "melist.remove(\"m\")\n",
    "melist.pop(6)\n",
    "print(melist)\n",
    "del melist[3]\n",
    "print(melist)\n",
    "melist.clear()\n",
    "print(melist)\n",
    "del melist\n"
   ]
  },
  {
   "cell_type": "markdown",
   "metadata": {},
   "source": [
    "Loop through a list"
   ]
  },
  {
   "cell_type": "code",
   "execution_count": 202,
   "metadata": {},
   "outputs": [
    {
     "name": "stdout",
     "output_type": "stream",
     "text": [
      "a\n",
      "b\n",
      "c\n",
      "a\n",
      "b\n",
      "c\n",
      "a\n",
      "b\n",
      "c\n",
      "a\n",
      "b\n",
      "c\n"
     ]
    },
    {
     "data": {
      "text/plain": [
       "[None, None, None]"
      ]
     },
     "execution_count": 202,
     "metadata": {},
     "output_type": "execute_result"
    }
   ],
   "source": [
    "melist = [\"a\", \"b\", \"c\"]\n",
    "for x in melist:\n",
    "    print(x)\n",
    "#or\n",
    "for i in range(len(melist)):\n",
    "    print(melist[i])\n",
    "#or\n",
    "i = 0\n",
    "while i < len(melist):\n",
    "    print(melist[i])\n",
    "    i = i + 1\n",
    "#or\n",
    "[print(x) for x in melist]"
   ]
  },
  {
   "cell_type": "markdown",
   "metadata": {},
   "source": [
    "List comprehension"
   ]
  },
  {
   "cell_type": "code",
   "execution_count": 203,
   "metadata": {},
   "outputs": [
    {
     "name": "stdout",
     "output_type": "stream",
     "text": [
      "['apple', 'mango', 'apricot']\n",
      "['apple', 'mango', 'apricot']\n",
      "['APPLE', 'CHERRY', 'MANGO', 'APRICOT']\n"
     ]
    }
   ],
   "source": [
    "fruits = [\"apple\",\"cherry\",\"mango\",\"apricot\"]\n",
    "melist = []\n",
    "for x in fruits:\n",
    "    if \"a\" in x:\n",
    "        melist.append(x)\n",
    "print(melist)\n",
    "#or\n",
    "mylist = [x for x in fruits if \"a\" in x]\n",
    "print(mylist)\n",
    "mylist = [x.upper() for x in fruits]\n",
    "print(mylist)"
   ]
  },
  {
   "cell_type": "code",
   "execution_count": 204,
   "metadata": {},
   "outputs": [
    {
     "name": "stdout",
     "output_type": "stream",
     "text": [
      "[0, 2, 4, 6, 8, 10]\n",
      "[0, 0, 4, 6, 8, 10]\n",
      "['hi', 'hi', 'hi', 'hi']\n"
     ]
    }
   ],
   "source": [
    "melist = [x for x in range(12) if x % 2 == 0]\n",
    "print(melist)\n",
    "melist = [x if x != 2 else 0 for x in melist]\n",
    "print(melist)\n",
    "melist = ['hi' for x in fruits]\n",
    "print(melist)"
   ]
  },
  {
   "cell_type": "markdown",
   "metadata": {},
   "source": [
    "Sorting list"
   ]
  },
  {
   "cell_type": "code",
   "execution_count": 205,
   "metadata": {},
   "outputs": [
    {
     "name": "stdout",
     "output_type": "stream",
     "text": [
      "[-24, -12, 0, 12, 24, 48, 60]\n",
      "[60, 48, 24, 12, 0, -12, -24]\n",
      "[60, 48, 24, 12, 0, -12, -24]\n"
     ]
    }
   ],
   "source": [
    "melist = [12, -12, 24, -24, 0, 60, 48]\n",
    "melist.sort()\n",
    "print(melist)\n",
    "melist.reverse()\n",
    "print(melist)\n",
    "melist.sort(reverse = True)\n",
    "print(melist)"
   ]
  },
  {
   "cell_type": "markdown",
   "metadata": {},
   "source": [
    "Sort function"
   ]
  },
  {
   "cell_type": "code",
   "execution_count": 206,
   "metadata": {},
   "outputs": [
    {
     "name": "stdout",
     "output_type": "stream",
     "text": [
      "[9, 2, 0, -3, -6]\n"
     ]
    }
   ],
   "source": [
    "def myfunc(x):\n",
    "    return abs(x - 6)\n",
    "melist = [0, -6, 2, -3, 9]\n",
    "melist.sort(key = myfunc)\n",
    "print(melist)"
   ]
  },
  {
   "cell_type": "markdown",
   "metadata": {},
   "source": [
    "Case sensitivity of a list"
   ]
  },
  {
   "cell_type": "code",
   "execution_count": 207,
   "metadata": {},
   "outputs": [
    {
     "name": "stdout",
     "output_type": "stream",
     "text": [
      "['Kiwi', 'Mango', 'apple', 'cherry']\n",
      "['apple', 'cherry', 'Kiwi', 'Mango']\n"
     ]
    }
   ],
   "source": [
    "melist = ['apple', 'Kiwi','Mango','cherry']\n",
    "melist.sort()\n",
    "print(melist)\n",
    "melist.sort(key = str.lower)\n",
    "print(melist)"
   ]
  },
  {
   "cell_type": "markdown",
   "metadata": {},
   "source": [
    "Copy lists"
   ]
  },
  {
   "cell_type": "code",
   "execution_count": 208,
   "metadata": {},
   "outputs": [
    {
     "name": "stdout",
     "output_type": "stream",
     "text": [
      "['a', 'b', 'c']\n",
      "['a', 'b', 'c']\n",
      "['a', 'b', 'c']\n"
     ]
    }
   ],
   "source": [
    "melist = [\"a\", \"b\", \"c\"]\n",
    "mylist = melist.copy()\n",
    "print(mylist)\n",
    "newlist = list(mylist)\n",
    "print(newlist)\n",
    "mylist = newlist[:]\n",
    "print(mylist)"
   ]
  },
  {
   "cell_type": "markdown",
   "metadata": {},
   "source": [
    "Join lists"
   ]
  },
  {
   "cell_type": "code",
   "execution_count": 209,
   "metadata": {},
   "outputs": [
    {
     "name": "stdout",
     "output_type": "stream",
     "text": [
      "['a', 'b', 'c', 1, 2, 3]\n",
      "[1, 2, 3, 'a', 'b', 'c']\n",
      "['a', 'b', 'c', 1, 2, 3, 'a', 'b', 'c']\n",
      "2\n"
     ]
    }
   ],
   "source": [
    "melist = [\"a\", \"b\", \"c\"]\n",
    "herlist = [1, 2, 3]\n",
    "newlist = melist + herlist\n",
    "print(newlist)\n",
    "#or\n",
    "for x in mylist:\n",
    "    herlist.append(x)\n",
    "print(herlist)\n",
    "#or\n",
    "melist.extend(herlist)\n",
    "print(melist)\n",
    "x = melist.count(\"a\")\n",
    "print(x)\n",
    "\n"
   ]
  },
  {
   "cell_type": "markdown",
   "metadata": {},
   "source": [
    "Tuples, ordered, unchangeable()"
   ]
  },
  {
   "cell_type": "code",
   "execution_count": 210,
   "metadata": {},
   "outputs": [
    {
     "name": "stdout",
     "output_type": "stream",
     "text": [
      "<class 'tuple'>\n",
      "1\n",
      "<class 'str'>\n",
      "('a', 'b')\n",
      "a\n",
      "('a',)\n",
      "nay\n"
     ]
    }
   ],
   "source": [
    "metuple= ('a',)\n",
    "print(type(metuple))\n",
    "print(len(metuple))\n",
    "metuple = ('a')\n",
    "print(type(metuple))\n",
    "\n",
    "metuple = tuple(('a','b'))\n",
    "print(metuple)\n",
    "print(metuple[-2])\n",
    "print(metuple[-2:-1])\n",
    "if \"c\" in metuple:\n",
    "    print(\"yay\")\n",
    "else: \n",
    "    print(\"nay\")"
   ]
  },
  {
   "cell_type": "markdown",
   "metadata": {},
   "source": [
    "Update tuples"
   ]
  },
  {
   "cell_type": "code",
   "execution_count": 212,
   "metadata": {},
   "outputs": [
    {
     "name": "stdout",
     "output_type": "stream",
     "text": [
      "('a', 'o', 'c', 'd')\n",
      "('a', 'o', 'c', 'd', 'i')\n",
      "('a', 'o', 'c', 'd', 'i', 'r')\n",
      "('a', 'c', 'd', 'i')\n"
     ]
    }
   ],
   "source": [
    "x = ('a', 'b', 'c', 'd')\n",
    "y = list(x)\n",
    "y[1] = 'o'\n",
    "x = tuple(y)\n",
    "print(x)\n",
    "y.append('i')\n",
    "x = tuple(y)\n",
    "print(x)\n",
    "z = ('r',)\n",
    "x += z\n",
    "print(x)\n",
    "y.remove('o')\n",
    "x = tuple(y)\n",
    "print(x)\n",
    "del x"
   ]
  },
  {
   "cell_type": "markdown",
   "metadata": {},
   "source": [
    "Unpacking tuples"
   ]
  },
  {
   "cell_type": "code",
   "execution_count": 213,
   "metadata": {},
   "outputs": [
    {
     "name": "stdout",
     "output_type": "stream",
     "text": [
      "a\n",
      "['b', 'c', 'd']\n"
     ]
    }
   ],
   "source": [
    "x = ('a', 'b', 'c', 'd')\n",
    "(aa, bb, cc, dd) = x\n",
    "print(aa)\n",
    "(aa, *bb) = x\n",
    "print(bb)"
   ]
  },
  {
   "cell_type": "markdown",
   "metadata": {},
   "source": [
    "Loop through tuples"
   ]
  },
  {
   "cell_type": "code",
   "execution_count": 214,
   "metadata": {},
   "outputs": [
    {
     "name": "stdout",
     "output_type": "stream",
     "text": [
      "1\n",
      "2\n",
      "3\n",
      "4\n",
      "1\n",
      "2\n",
      "3\n",
      "4\n",
      "1\n",
      "2\n",
      "3\n",
      "4\n"
     ]
    }
   ],
   "source": [
    "metuple = (1, 2, 3, 4)\n",
    "for x in metuple:\n",
    "    print(x)\n",
    "#or\n",
    "for i in range(len(metuple)):\n",
    "    print(metuple[i])\n",
    "#or\n",
    "i = 0\n",
    "while i < len(metuple):\n",
    "    print(metuple[i])\n",
    "    i += 1"
   ]
  },
  {
   "cell_type": "markdown",
   "metadata": {},
   "source": [
    "Join/multiply tuples"
   ]
  },
  {
   "cell_type": "code",
   "execution_count": 215,
   "metadata": {},
   "outputs": [
    {
     "name": "stdout",
     "output_type": "stream",
     "text": [
      "('a', 'b', 'c', 1, 2)\n",
      "(1, 2, 1, 2)\n",
      "2\n"
     ]
    }
   ],
   "source": [
    "x = ('a','b','c')\n",
    "y = (1, 2)\n",
    "z = x + y\n",
    "print(z)\n",
    "z = y * 2\n",
    "print(z)\n",
    "a = z.count(1)\n",
    "print(a)"
   ]
  },
  {
   "cell_type": "markdown",
   "metadata": {},
   "source": [
    "Sets (unordered, unchangeable) { }"
   ]
  },
  {
   "cell_type": "code",
   "execution_count": 216,
   "metadata": {},
   "outputs": [
    {
     "name": "stdout",
     "output_type": "stream",
     "text": [
      "{'c', 'a', 'b'}\n",
      "{'d', 'a', 'b', 'c'}\n",
      "{False, 1, 2, 'a', 'b'}\n",
      "5\n",
      "<class 'set'>\n",
      "{1, 2, 3}\n"
     ]
    }
   ],
   "source": [
    "x = {'a','b','c'}\n",
    "print(x)\n",
    "x = {'a','b','c','d','a','b'}\n",
    "print(x)\n",
    "x = {'a','b', False, 0, 1, True, 2}\n",
    "print(x)\n",
    "print(len(x))\n",
    "print(type(x))\n",
    "x = set((1,2,3))\n",
    "print(x)"
   ]
  },
  {
   "cell_type": "markdown",
   "metadata": {},
   "source": [
    "Access set"
   ]
  },
  {
   "cell_type": "code",
   "execution_count": 217,
   "metadata": {},
   "outputs": [
    {
     "name": "stdout",
     "output_type": "stream",
     "text": [
      "d\n",
      "a\n",
      "b\n",
      "c\n",
      "False\n"
     ]
    }
   ],
   "source": [
    "meset =  {'a', 'b', 'c', 'd'}\n",
    "for x in meset:\n",
    "    print(x)\n",
    "print('c' not in meset)"
   ]
  },
  {
   "cell_type": "markdown",
   "metadata": {},
   "source": [
    "Add to set"
   ]
  },
  {
   "cell_type": "code",
   "execution_count": 218,
   "metadata": {},
   "outputs": [
    {
     "name": "stdout",
     "output_type": "stream",
     "text": [
      "{'c', 'd', 'a', 'b'}\n",
      "{'c', 'd', 'f', 'a', 'b', 'e'}\n",
      "{1, 2, 3, 'c', 'd', 'a', 'e', 'f', 'b'}\n",
      "{1, 3, 'c', 'd', 'a', 'e', 'f', 'b'}\n",
      "{3, 'c', 'd', 'a', 'e', 'f', 'b'}\n",
      "3\n",
      "{'c', 'd', 'a', 'e', 'f', 'b'}\n",
      "set()\n"
     ]
    }
   ],
   "source": [
    "meset = {'a','b','c'}\n",
    "meset.add('d')\n",
    "print(meset)\n",
    "\n",
    "herset = {'e','f'}\n",
    "meset.update(herset)\n",
    "print(meset)\n",
    "\n",
    "melist = [1,2,3]\n",
    "meset.update(melist)\n",
    "print(meset)\n",
    "\n",
    "meset.remove(2)\n",
    "print(meset)\n",
    "meset.discard(1)\n",
    "print(meset)\n",
    "\n",
    "x = meset.pop()\n",
    "print(x)\n",
    "print(meset)\n",
    "\n",
    "meset.clear()\n",
    "print(meset)\n",
    "\n",
    "del meset"
   ]
  },
  {
   "cell_type": "markdown",
   "metadata": {},
   "source": [
    "Loop through sets"
   ]
  },
  {
   "cell_type": "code",
   "execution_count": 219,
   "metadata": {},
   "outputs": [
    {
     "name": "stdout",
     "output_type": "stream",
     "text": [
      "c\n",
      "a\n",
      "b\n"
     ]
    }
   ],
   "source": [
    "meset = {'a','b','c'}\n",
    "for x in meset:\n",
    "    print(x)"
   ]
  },
  {
   "cell_type": "markdown",
   "metadata": {},
   "source": [
    "Joining sets"
   ]
  },
  {
   "cell_type": "code",
   "execution_count": 220,
   "metadata": {},
   "outputs": [
    {
     "name": "stdout",
     "output_type": "stream",
     "text": [
      "{'b', 1, 2, 'a'}\n",
      "{1, 2, 'b', 'a'}\n",
      "{1, 2, 'b', 'a'}\n"
     ]
    }
   ],
   "source": [
    "x = {'a','b'}\n",
    "y = {1,2}\n",
    "z = x.union(y)\n",
    "print(z)\n",
    "#or\n",
    "y = x | z\n",
    "print(y)\n",
    "#or\n",
    "x.update(y)\n",
    "print(x)"
   ]
  },
  {
   "cell_type": "code",
   "execution_count": 221,
   "metadata": {},
   "outputs": [
    {
     "name": "stdout",
     "output_type": "stream",
     "text": [
      "{'B', 1, 2, 'a', 'b', 'A'}\n",
      "{'B', 1, 2, 'a', 'b', 'A'}\n",
      "{1, 2, 'wick', 'a', 'john', 'b'}\n"
     ]
    }
   ],
   "source": [
    "w = {'A','B'}\n",
    "z = x.union(y,w)\n",
    "print(z)\n",
    "#or\n",
    "y = x | z | w\n",
    "print(y)\n",
    "tup = ('john', 'wick')\n",
    "z = x.union(tup)\n",
    "print(z)"
   ]
  },
  {
   "cell_type": "markdown",
   "metadata": {},
   "source": [
    "Intersection of sets"
   ]
  },
  {
   "cell_type": "code",
   "execution_count": 222,
   "metadata": {},
   "outputs": [
    {
     "name": "stdout",
     "output_type": "stream",
     "text": [
      "{'d', 'a'}\n",
      "{'d', 'a'}\n",
      "{'d', 'a'}\n"
     ]
    }
   ],
   "source": [
    "x = {'a','b','c','d'}\n",
    "y = {'e','d','a','f'}\n",
    "z = x.intersection(y)    \n",
    "print(z)\n",
    "#or\n",
    "z = x & y\n",
    "print(z)\n",
    "\n",
    "x.intersection_update(y) \n",
    "print(x)"
   ]
  },
  {
   "cell_type": "markdown",
   "metadata": {},
   "source": [
    "Difference of sets"
   ]
  },
  {
   "cell_type": "code",
   "execution_count": 223,
   "metadata": {},
   "outputs": [
    {
     "name": "stdout",
     "output_type": "stream",
     "text": [
      "{'b', 'a'}\n",
      "{'d', 'e'}\n",
      "{'a', 'b'}\n",
      "{'a', 'e', 'd', 'c', 'b'}\n",
      "{'a', 'e', 'd', 'c', 'b'}\n",
      "{'a', 'e', 'd', 'c', 'b'}\n"
     ]
    }
   ],
   "source": [
    "x = {'a','b','c'}\n",
    "y = {'d','e','c'}\n",
    "z = x.difference(y)\n",
    "print(z)\n",
    "#or \n",
    "z = y - x\n",
    "print(z)\n",
    "\n",
    "x.difference_update(y)\n",
    "print(x)\n",
    "\n",
    "z = x.symmetric_difference(y)\n",
    "print(z)\n",
    "#or\n",
    "w = x ^ y\n",
    "print(w)\n",
    "\n",
    "y.symmetric_difference_update(x)\n",
    "print(y)"
   ]
  },
  {
   "cell_type": "code",
   "execution_count": 224,
   "metadata": {},
   "outputs": [
    {
     "name": "stdout",
     "output_type": "stream",
     "text": [
      "{'c', 'a'}\n",
      "True\n",
      "False\n",
      "True\n"
     ]
    }
   ],
   "source": [
    "x = {'a','b','c'}\n",
    "y = {'d','e','f'}\n",
    "x.discard('b')\n",
    "print(x)\n",
    "z = x.isdisjoint(y)\n",
    "print(z)\n",
    "z = y.issubset(x)\n",
    "print(z)\n",
    "z = {'a','b','c','d','e','f'}\n",
    "w = z.issuperset(y)\n",
    "print(w)"
   ]
  },
  {
   "cell_type": "markdown",
   "metadata": {},
   "source": [
    "Dictionaries (ordered, changeable)"
   ]
  },
  {
   "cell_type": "code",
   "execution_count": 225,
   "metadata": {},
   "outputs": [
    {
     "name": "stdout",
     "output_type": "stream",
     "text": [
      "{'a': 1, 'b': 2, 'c': 3}\n",
      "3\n",
      "3\n",
      "<class 'dict'>\n",
      "1\n",
      "2\n",
      "dict_keys(['a', 'b', 'c'])\n",
      "dict_keys(['a', 'b', 'c', 'd'])\n",
      "dict_values([1, 2, 3, 4])\n",
      "dict_values([1, 2, 3, 4, 5])\n"
     ]
    }
   ],
   "source": [
    "medict = {\n",
    "    'a': 1,\n",
    "    'b': 2,\n",
    "    'c': 3\n",
    "}\n",
    "print(medict)\n",
    "print(medict['c'])\n",
    "print(len(medict))\n",
    "print(type(medict))\n",
    "\n",
    "x = medict['a']\n",
    "print(x)\n",
    "x = medict.get('b')\n",
    "print(x)\n",
    "x = medict.keys()\n",
    "print(x)\n",
    "\n",
    "medict['d'] = 4\n",
    "print(x)\n",
    "z = medict.values()\n",
    "print(z)\n",
    "medict['e'] = 5\n",
    "print(z)\n"
   ]
  },
  {
   "cell_type": "code",
   "execution_count": 226,
   "metadata": {},
   "outputs": [
    {
     "name": "stdout",
     "output_type": "stream",
     "text": [
      "{'name': 'Tony', 'surname': 'Stark', 'nickname': 'Ironman'}\n",
      "dict_items([('name', 'Tony'), ('surname', 'Stark'), ('nickname', 'Ironman')])\n",
      "dict_items([('name', 'Tony'), ('surname', 'Stark'), ('nickname', 'Ironman'), ('age', 49)])\n",
      "no\n"
     ]
    }
   ],
   "source": [
    "medict = dict(name = 'Tony', surname = 'Stark', nickname = 'Ironman')\n",
    "print(medict)\n",
    "x = medict.items()\n",
    "print(x)\n",
    "medict['age'] = 49\n",
    "print(x)\n",
    "\n",
    "if 'shield' in medict:\n",
    "    print('yes')\n",
    "else:\n",
    "    print('no')"
   ]
  },
  {
   "cell_type": "code",
   "execution_count": 227,
   "metadata": {},
   "outputs": [
    {
     "name": "stdout",
     "output_type": "stream",
     "text": [
      "{'name': 'Tony', 'surname': 'Stark', 'nickname': 'Dr.Doom'}\n",
      "{'name': 'Viktor', 'surname': 'Stark', 'nickname': 'Dr.Doom'}\n",
      "{'name': 'Viktor', 'surname': 'Stark', 'nickname': 'Dr.Doom', 'side': 'evil'}\n",
      "{'name': 'Viktor', 'surname': 'Stark', 'nickname': 'Dr.Doom', 'side': 'evil', 'power': 'magic'}\n",
      "{'name': 'Viktor', 'nickname': 'Dr.Doom', 'side': 'evil', 'power': 'magic'}\n",
      "{'name': 'Viktor', 'nickname': 'Dr.Doom', 'side': 'evil'}\n",
      "{'name': 'Viktor', 'nickname': 'Dr.Doom'}\n",
      "{}\n"
     ]
    }
   ],
   "source": [
    "medict = dict(name = 'Tony', surname = 'Stark', nickname = 'Ironman')\n",
    "medict['nickname'] = 'Dr.Doom'\n",
    "print(medict)\n",
    "medict.update({'name' : 'Viktor'})\n",
    "print(medict)\n",
    "medict['side'] = 'evil'\n",
    "print(medict)\n",
    "medict.update({'power':'magic'})\n",
    "print(medict)\n",
    "medict.pop('surname')\n",
    "print(medict)\n",
    "medict.popitem()\n",
    "print(medict)\n",
    "del medict['side']\n",
    "print(medict)\n",
    "medict.clear()\n",
    "print(medict)\n",
    "\n",
    "del medict"
   ]
  },
  {
   "cell_type": "markdown",
   "metadata": {},
   "source": [
    "Loop through dictionaries"
   ]
  },
  {
   "cell_type": "code",
   "execution_count": 228,
   "metadata": {},
   "outputs": [
    {
     "name": "stdout",
     "output_type": "stream",
     "text": [
      "a\n",
      "b\n",
      "c\n",
      "a\n",
      "b\n",
      "c\n",
      "1\n",
      "2\n",
      "3\n",
      "1\n",
      "2\n",
      "3\n",
      "a 1\n",
      "b 2\n",
      "c 3\n"
     ]
    }
   ],
   "source": [
    "medict = {'a': 1, 'b': 2, 'c' : 3}\n",
    "for x in medict:\n",
    "    print(x)\n",
    "#or \n",
    "for x in medict.keys():\n",
    "    print(x)\n",
    "for x in medict:\n",
    "    print(medict[x])\n",
    "#or\n",
    "for x in medict.values():\n",
    "    print(x)\n",
    "\n",
    "for x,y in medict.items():\n",
    "    print(x,y)"
   ]
  },
  {
   "cell_type": "markdown",
   "metadata": {},
   "source": [
    "Copy dictionary"
   ]
  },
  {
   "cell_type": "code",
   "execution_count": 229,
   "metadata": {},
   "outputs": [
    {
     "name": "stdout",
     "output_type": "stream",
     "text": [
      "{'a': 1, 'b': 2, 'c': 3}\n",
      "{'a': 1, 'b': 2, 'c': 3}\n"
     ]
    }
   ],
   "source": [
    "medict = {'a': 1, 'b': 2, 'c' : 3}\n",
    "newdict = medict.copy()\n",
    "print(newdict)\n",
    "aydict = dict(newdict)\n",
    "print(aydict)"
   ]
  },
  {
   "cell_type": "markdown",
   "metadata": {},
   "source": [
    "Nested dictionaries"
   ]
  },
  {
   "cell_type": "code",
   "execution_count": 230,
   "metadata": {},
   "outputs": [
    {
     "name": "stdout",
     "output_type": "stream",
     "text": [
      "{'1st': {'name': 'Luiza', 'month': 'June'}, '2nd': {'name': 'Azamat', 'month': 'June'}, '4th': {'name': 'Shakira', 'month': 'October'}}\n",
      "{'1st': {'name': 'Luiza', 'month': 'June'}, '2nd': {'name': 'Azamat', 'month': 'June'}}\n",
      "June\n",
      "1st\n",
      "name: Luiza\n",
      "month: June\n",
      "2nd\n",
      "name: Azamat\n",
      "month: June\n"
     ]
    }
   ],
   "source": [
    "myfam = {'1st': {'name':'Luiza', 'month':'June'},\n",
    "         '2nd': {'name':'Azamat', 'month':'June'},\n",
    "         '4th': {'name':'Shakira','month':'October'}}\n",
    "print(myfam)\n",
    "#or \n",
    "child1 =  {'name':'Luiza', 'month':'June'}\n",
    "child2 =  {'name':'Azamat', 'month':'June'}\n",
    "myfam = {'1st': child1,'2nd': child2}\n",
    "print(myfam)\n",
    "print(myfam['1st']['month'])\n",
    "for x, obj in myfam.items():\n",
    "    print(x)\n",
    "    for y in obj:\n",
    "        print(y + ':', obj[y])"
   ]
  },
  {
   "cell_type": "code",
   "execution_count": 231,
   "metadata": {},
   "outputs": [
    {
     "name": "stdout",
     "output_type": "stream",
     "text": [
      "{'a': 1, 'b': 1, 'c': 1}\n"
     ]
    }
   ],
   "source": [
    "x = ('a','b','c')\n",
    "y = 1\n",
    "medict = dict.fromkeys(x, y)\n",
    "print(medict)"
   ]
  },
  {
   "cell_type": "markdown",
   "metadata": {},
   "source": [
    "Conditions and loops"
   ]
  },
  {
   "cell_type": "code",
   "execution_count": 232,
   "metadata": {},
   "outputs": [
    {
     "name": "stdout",
     "output_type": "stream",
     "text": [
      "no\n",
      "yes\n",
      "NO\n"
     ]
    }
   ],
   "source": [
    "a = 1\n",
    "b = 0\n",
    "if b > a:\n",
    "    print('yes')\n",
    "elif b == a:\n",
    "    print('yes')\n",
    "else:\n",
    "    print('no')\n",
    "if a > b: print('yes')\n",
    "print('YES') if b > a else print(\"NO\")"
   ]
  },
  {
   "cell_type": "code",
   "execution_count": 233,
   "metadata": {},
   "outputs": [
    {
     "name": "stdout",
     "output_type": "stream",
     "text": [
      "yes\n",
      "no\n",
      "positive\n",
      "odd\n"
     ]
    }
   ],
   "source": [
    "a = 5\n",
    "b = 0\n",
    "c = -5\n",
    "if a > b and a > c:\n",
    "    print ('yes')\n",
    "if a < b or c > b:\n",
    "    print('yes')\n",
    "if not c > b:\n",
    "    print('no')\n",
    "\n",
    "if a > 0:\n",
    "    print ('positive')\n",
    "    if a % 2 == 0:\n",
    "        print ('even')\n",
    "    else:\n",
    "        print('odd')\n",
    "\n",
    "if b > c:\n",
    "    pass\n"
   ]
  },
  {
   "cell_type": "code",
   "execution_count": 234,
   "metadata": {},
   "outputs": [
    {
     "name": "stdout",
     "output_type": "stream",
     "text": [
      "1\n",
      "2\n",
      "4\n",
      "5\n"
     ]
    }
   ],
   "source": [
    "i = 0\n",
    "while i < 9:\n",
    "    i += 1\n",
    "    if i == 3:\n",
    "        continue\n",
    "    elif i == 6:\n",
    "        break\n",
    "    print(i)\n",
    "    "
   ]
  },
  {
   "cell_type": "code",
   "execution_count": 235,
   "metadata": {},
   "outputs": [
    {
     "name": "stdout",
     "output_type": "stream",
     "text": [
      "0\n",
      "1\n",
      "2\n",
      "3\n",
      "4\n",
      "i is greater than 4\n"
     ]
    }
   ],
   "source": [
    "i = 0\n",
    "while i < 5:\n",
    "    print(i)\n",
    "    i += 1\n",
    "else: \n",
    "    print('i is greater than 4')"
   ]
  },
  {
   "cell_type": "code",
   "execution_count": 236,
   "metadata": {},
   "outputs": [
    {
     "name": "stdout",
     "output_type": "stream",
     "text": [
      "a\n",
      "c\n",
      "d\n",
      "e\n"
     ]
    }
   ],
   "source": [
    "melist = ['a','b','c','d','e','f']\n",
    "for x in melist:\n",
    "    if x =='b':\n",
    "        continue\n",
    "    if x =='f':\n",
    "        break\n",
    "    print(x)"
   ]
  },
  {
   "cell_type": "code",
   "execution_count": 237,
   "metadata": {},
   "outputs": [
    {
     "name": "stdout",
     "output_type": "stream",
     "text": [
      "-10\n",
      "-6\n",
      "-2\n",
      "2\n",
      "6\n",
      "done\n"
     ]
    }
   ],
   "source": [
    "for x in range (-10,10,4):\n",
    "    print(x)\n",
    "else:\n",
    "    print('done')"
   ]
  },
  {
   "cell_type": "code",
   "execution_count": 238,
   "metadata": {},
   "outputs": [
    {
     "name": "stdout",
     "output_type": "stream",
     "text": [
      "a 1\n",
      "a 2\n",
      "a 3\n",
      "b 1\n",
      "b 2\n",
      "b 3\n",
      "c 1\n",
      "c 2\n",
      "c 3\n"
     ]
    }
   ],
   "source": [
    "x = ['a','b','c']\n",
    "y = [1,2,3]\n",
    "for a in x:\n",
    "    for b in y:\n",
    "        print(a,b)"
   ]
  }
 ],
 "metadata": {
  "kernelspec": {
   "display_name": "Python 3",
   "language": "python",
   "name": "python3"
  },
  "language_info": {
   "codemirror_mode": {
    "name": "ipython",
    "version": 3
   },
   "file_extension": ".py",
   "mimetype": "text/x-python",
   "name": "python",
   "nbconvert_exporter": "python",
   "pygments_lexer": "ipython3",
   "version": "3.13.1"
  }
 },
 "nbformat": 4,
 "nbformat_minor": 2
}
