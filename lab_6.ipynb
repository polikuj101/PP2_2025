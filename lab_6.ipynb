{
 "cells": [
  {
   "cell_type": "markdown",
   "metadata": {},
   "source": [
    "Built-in Python"
   ]
  },
  {
   "cell_type": "code",
   "execution_count": 15,
   "metadata": {},
   "outputs": [],
   "source": [
    "from functools import reduce\n",
    "import operator\n",
    "#1\n",
    "def multiply_list(numbers):\n",
    "    return reduce(operator.mul, numbers, 1)\n"
   ]
  },
  {
   "cell_type": "code",
   "execution_count": 16,
   "metadata": {},
   "outputs": [],
   "source": [
    "\n",
    "# 2.\n",
    "def count_cases(string):\n",
    "    upper_count = sum(1 for char in string if char.isupper())\n",
    "    lower_count = sum(1 for char in string if char.islower())\n",
    "    return upper_count, lower_count"
   ]
  },
  {
   "cell_type": "code",
   "execution_count": 17,
   "metadata": {},
   "outputs": [],
   "source": [
    "\n",
    "# 3.\n",
    "def is_palindrome(string):\n",
    "    string = string.lower().replace(\" \", \"\")\n",
    "    return string == string[::-1]\n"
   ]
  },
  {
   "cell_type": "code",
   "execution_count": 18,
   "metadata": {},
   "outputs": [],
   "source": [
    "\n",
    "# 4.\n",
    "def delayed_sqrt(number, milliseconds):\n",
    "    import time\n",
    "    import math\n",
    "    time.sleep(milliseconds/1000)\n",
    "    return math.sqrt(number)\n"
   ]
  },
  {
   "cell_type": "code",
   "execution_count": 19,
   "metadata": {},
   "outputs": [],
   "source": [
    "\n",
    "# 5. \n",
    "def all_true(tuple_items):\n",
    "    return all(tuple_items)\n"
   ]
  },
  {
   "cell_type": "code",
   "execution_count": 33,
   "metadata": {},
   "outputs": [
    {
     "name": "stdout",
     "output_type": "stream",
     "text": [
      "24\n",
      "Upper case: 2\n",
      "Lower case: 8\n",
      "True\n",
      "False\n",
      "Square root of 25100 after 210 miliseconds is 158.42979517754858\n",
      "True\n"
     ]
    }
   ],
   "source": [
    "print(multiply_list([1, 2, 3, 4]))\n",
    "\n",
    "a = \"Hello World\"\n",
    "upper, lower = count_cases(a)\n",
    "print(f\"Upper case: {upper}\")\n",
    "print(f\"Lower case: {lower}\")\n",
    "\n",
    "print(is_palindrome(\"racecar\"))\n",
    "print(is_palindrome(\"hello\"))\n",
    "\n",
    "num = 25100\n",
    "ms = 210\n",
    "result = delayed_sqrt(num, ms)\n",
    "print(f\"Square root of {num} after {ms} miliseconds is {result}\")\n",
    "\n",
    "test_tuple = (True, True, 1, 1)\n",
    "print(all_true(test_tuple))"
   ]
  },
  {
   "cell_type": "markdown",
   "metadata": {},
   "source": [
    "File System Ops"
   ]
  },
  {
   "cell_type": "code",
   "execution_count": 34,
   "metadata": {},
   "outputs": [
    {
     "name": "stdout",
     "output_type": "stream",
     "text": [
      "Directories:\n",
      "Camera Roll\n",
      "Saved Pictures\n",
      "Screenshots\n",
      "\n",
      "Files:\n",
      "desktop.ini\n",
      "output.png\n",
      "Untitled.png\n",
      "\n",
      "All Directories and Files:\n",
      "Camera Roll\n",
      "desktop.ini\n",
      "output.png\n",
      "Saved Pictures\n",
      "Screenshots\n",
      "Untitled.png\n"
     ]
    }
   ],
   "source": [
    "# 1.\n",
    "import os\n",
    "def list_dir_files(path):\n",
    "\n",
    "    \n",
    "    print(\"Directories:\")\n",
    "    for item in os.listdir(path):\n",
    "        if os.path.isdir(os.path.join(path, item)):\n",
    "            print(item)\n",
    "    \n",
    "    print(\"\\nFiles:\")\n",
    "    for item in os.listdir(path):\n",
    "        if os.path.isfile(os.path.join(path, item)):\n",
    "            print(item)\n",
    "    \n",
    "    print(\"\\nAll Directories and Files:\")\n",
    "    for item in os.listdir(path):\n",
    "        print(item)\n",
    "list_dir_files(\"C:/Users/nurbolatte/Pictures\")"
   ]
  },
  {
   "cell_type": "code",
   "execution_count": 36,
   "metadata": {},
   "outputs": [
    {
     "name": "stdout",
     "output_type": "stream",
     "text": [
      "Path: C:/Users/nurbolatte/Pictures\n",
      "Exists: True\n",
      "Readable: True\n",
      "Writable: True\n",
      "Executable: True\n"
     ]
    }
   ],
   "source": [
    "\n",
    "# 2. Check for access to a specified path\n",
    "def check_path_access(path):\n",
    "    \n",
    "    print(f\"Path: {path}\")\n",
    "    print(f\"Exists: {os.path.exists(path)}\")\n",
    "    \n",
    "    if os.path.exists(path):\n",
    "        print(f\"Readable: {os.access(path, os.R_OK)}\")\n",
    "        print(f\"Writable: {os.access(path, os.W_OK)}\")\n",
    "        print(f\"Executable: {os.access(path, os.X_OK)}\")\n",
    "\n",
    "check_path_access(\"C:/Users/nurbolatte/Pictures\")"
   ]
  },
  {
   "cell_type": "code",
   "execution_count": 37,
   "metadata": {},
   "outputs": [
    {
     "name": "stdout",
     "output_type": "stream",
     "text": [
      "Path C:/Users/nurbolatte/Pictures exists\n",
      "Directory portion: C:/Users/nurbolatte\n",
      "Filename portion: Pictures\n"
     ]
    }
   ],
   "source": [
    "\n",
    "# 3. Test path existence and find filename/directory portions\n",
    "def test_path_parts(path):\n",
    "    \n",
    "    if os.path.exists(path):\n",
    "        print(f\"Path {path} exists\")\n",
    "        dirname, filename = os.path.split(path)\n",
    "        print(f\"Directory portion: {dirname}\")\n",
    "        print(f\"Filename portion: {filename}\")\n",
    "    else:\n",
    "        print(f\"Path {path} does not exist\")\n",
    "\n",
    "test_path_parts(\"C:/Users/nurbolatte/Pictures\")"
   ]
  },
  {
   "cell_type": "code",
   "execution_count": 39,
   "metadata": {},
   "outputs": [
    {
     "name": "stdout",
     "output_type": "stream",
     "text": [
      "Total lines in C:/Users/nurbolatte/Desktop/requirements.txt: 5\n"
     ]
    }
   ],
   "source": [
    "\n",
    "# 4. Count lines in a text file\n",
    "def count_lines(filename):\n",
    "    with open(filename, 'r') as file:\n",
    "        line_count = sum(1 for line in file)\n",
    "    \n",
    "    print(f\"Total lines in {filename}: {line_count}\")\n",
    "\n",
    "count_lines(\"C:/Users/nurbolatte/Desktop/requirements.txt\")"
   ]
  },
  {
   "cell_type": "code",
   "execution_count": 40,
   "metadata": {},
   "outputs": [
    {
     "name": "stdout",
     "output_type": "stream",
     "text": [
      "List written to C:/Users/nurbolatte/Desktop/requirements.txt\n"
     ]
    }
   ],
   "source": [
    "\n",
    "# 5. Write a list to a file\n",
    "def write_list_to_file(filename, data_list):\n",
    "    with open(filename, 'w') as file:\n",
    "        for item in data_list:\n",
    "            file.write(f\"{item}\\n\")\n",
    "    \n",
    "    print(f\"List written to {filename}\")\n",
    "write_list_to_file(\"C:/Users/nurbolatte/Desktop/requirements.txt\",[\"a\",1,\"b\"])"
   ]
  },
  {
   "cell_type": "code",
   "execution_count": 45,
   "metadata": {},
   "outputs": [
    {
     "name": "stdout",
     "output_type": "stream",
     "text": [
      "Created 26 files from A.txt to Z.txt\n"
     ]
    }
   ],
   "source": [
    "\n",
    "# 6. Generate 26 text files named A.txt to Z.txt\n",
    "import string\n",
    "def generate_alphabet_files():\n",
    "    for letter in string.ascii_uppercase:\n",
    "        filename = f\"{letter}.txt\"\n",
    "        with open(filename, 'w') as file:\n",
    "            file.write(f\"This is file {letter}\")\n",
    "    \n",
    "    print(\"Created 26 files from A.txt to Z.txt\")\n",
    "generate_alphabet_files()"
   ]
  },
  {
   "cell_type": "code",
   "execution_count": 46,
   "metadata": {},
   "outputs": [
    {
     "name": "stdout",
     "output_type": "stream",
     "text": [
      "Contents copied from C:/Users/nurbolatte/Desktop/requirements.txt to C:/Users/nurbolatte/Desktop/A.txt\n"
     ]
    }
   ],
   "source": [
    "\n",
    "# 7. Copy contents of one file to another\n",
    "def copy_file_contents(source_file, destination_file):\n",
    "    with open(source_file, 'r') as source:\n",
    "        content = source.read()\n",
    "    \n",
    "    with open(destination_file, 'w') as destination:\n",
    "        destination.write(content)\n",
    "    \n",
    "    print(f\"Contents copied from {source_file} to {destination_file}\")\n",
    "\n",
    "copy_file_contents(\"C:/Users/nurbolatte/Desktop/requirements.txt\",\"C:/Users/nurbolatte/Desktop/A.txt\")"
   ]
  },
  {
   "cell_type": "code",
   "execution_count": 43,
   "metadata": {},
   "outputs": [
    {
     "name": "stdout",
     "output_type": "stream",
     "text": [
      "File C:/Users/nurbolatte/Desktop/A.txt has been deleted\n",
      "File C:/Users/nurbolatte/Desktop/B.txt has been deleted\n",
      "File C:/Users/nurbolatte/Desktop/C.txt has been deleted\n",
      "File C:/Users/nurbolatte/Desktop/D.txt has been deleted\n",
      "File C:/Users/nurbolatte/Desktop/E.txt has been deleted\n",
      "File C:/Users/nurbolatte/Desktop/F.txt has been deleted\n",
      "File C:/Users/nurbolatte/Desktop/G.txt has been deleted\n",
      "File C:/Users/nurbolatte/Desktop/H.txt has been deleted\n",
      "File C:/Users/nurbolatte/Desktop/I.txt has been deleted\n",
      "File C:/Users/nurbolatte/Desktop/J.txt has been deleted\n",
      "File C:/Users/nurbolatte/Desktop/K.txt has been deleted\n",
      "File C:/Users/nurbolatte/Desktop/L.txt has been deleted\n",
      "File C:/Users/nurbolatte/Desktop/M.txt has been deleted\n",
      "File C:/Users/nurbolatte/Desktop/N.txt has been deleted\n",
      "File C:/Users/nurbolatte/Desktop/O.txt has been deleted\n",
      "File C:/Users/nurbolatte/Desktop/P.txt has been deleted\n",
      "File C:/Users/nurbolatte/Desktop/Q.txt has been deleted\n",
      "File C:/Users/nurbolatte/Desktop/R.txt has been deleted\n",
      "File C:/Users/nurbolatte/Desktop/S.txt has been deleted\n",
      "File C:/Users/nurbolatte/Desktop/T.txt has been deleted\n",
      "File C:/Users/nurbolatte/Desktop/U.txt has been deleted\n",
      "File C:/Users/nurbolatte/Desktop/V.txt has been deleted\n",
      "File C:/Users/nurbolatte/Desktop/W.txt has been deleted\n",
      "File C:/Users/nurbolatte/Desktop/X.txt has been deleted\n",
      "File C:/Users/nurbolatte/Desktop/Y.txt has been deleted\n",
      "File C:/Users/nurbolatte/Desktop/Z.txt has been deleted\n"
     ]
    }
   ],
   "source": [
    "\n",
    "# 8. Delete file by specified path with checks\n",
    "def delete_file(path):\n",
    "    \n",
    "    if not os.path.exists(path):\n",
    "        print(f\"Error: {path} does not exist\")\n",
    "        return\n",
    "    \n",
    "    if not os.path.isfile(path):\n",
    "        print(f\"Error: {path} is not a file\")\n",
    "        return\n",
    "    \n",
    "    if not os.access(path, os.W_OK):\n",
    "        print(f\"Error: No write access to {path}\")\n",
    "        return\n",
    "    \n",
    "    os.remove(path)\n",
    "    print(f\"File {path} has been deleted\")\n",
    "\n",
    "for i in string.ascii_uppercase:\n",
    "    delete_file(f\"C:/Users/nurbolatte/Desktop/{i}.txt\")"
   ]
  },
  {
   "cell_type": "code",
   "execution_count": null,
   "metadata": {},
   "outputs": [],
   "source": []
  }
 ],
 "metadata": {
  "kernelspec": {
   "display_name": "Python 3",
   "language": "python",
   "name": "python3"
  },
  "language_info": {
   "codemirror_mode": {
    "name": "ipython",
    "version": 3
   },
   "file_extension": ".py",
   "mimetype": "text/x-python",
   "name": "python",
   "nbconvert_exporter": "python",
   "pygments_lexer": "ipython3",
   "version": "3.12.4"
  }
 },
 "nbformat": 4,
 "nbformat_minor": 2
}
